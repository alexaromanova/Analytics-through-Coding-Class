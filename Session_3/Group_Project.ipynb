{
 "cells": [
  {
   "cell_type": "markdown",
   "id": "d6440183",
   "metadata": {},
   "source": [
    "### Group Prject - London Bike Rentals\n",
    "\n",
    "In this project, you will work with the London Bikes dataset, which records daily bike rentals in the city along with key variables such as dates, weather conditions, and seasonality.\n",
    "\n",
    "The goal is to apply the full data analytics workflow:\n",
    "\n",
    "- Clean and prepare the dataset.\n",
    "\n",
    "- Explore the data through visualisation.\n",
    "\n",
    "- Construct and interpret confidence intervals.\n",
    "\n",
    "- Build a regression model to explain variation in bike rentals.\n",
    "\n",
    "- By the end, you will connect statistical concepts with practical Python analysis."
   ]
  },
  {
   "cell_type": "code",
   "execution_count": null,
   "id": "77f62329",
   "metadata": {},
   "outputs": [
    {
     "data": {
      "application/vnd.microsoft.datawrangler.viewer.v0+json": {
       "columns": [
        {
         "name": "index",
         "rawType": "int64",
         "type": "integer"
        },
        {
         "name": "date",
         "rawType": "object",
         "type": "string"
        },
        {
         "name": "bikes_hired",
         "rawType": "int64",
         "type": "integer"
        },
        {
         "name": "year",
         "rawType": "int64",
         "type": "integer"
        },
        {
         "name": "wday",
         "rawType": "object",
         "type": "string"
        },
        {
         "name": "month",
         "rawType": "object",
         "type": "string"
        },
        {
         "name": "week",
         "rawType": "int64",
         "type": "integer"
        },
        {
         "name": "cloud_cover",
         "rawType": "float64",
         "type": "float"
        },
        {
         "name": "humidity",
         "rawType": "float64",
         "type": "float"
        },
        {
         "name": "pressure",
         "rawType": "float64",
         "type": "float"
        },
        {
         "name": "radiation",
         "rawType": "float64",
         "type": "float"
        },
        {
         "name": "precipitation",
         "rawType": "float64",
         "type": "float"
        },
        {
         "name": "snow_depth",
         "rawType": "float64",
         "type": "float"
        },
        {
         "name": "sunshine",
         "rawType": "float64",
         "type": "float"
        },
        {
         "name": "mean_temp",
         "rawType": "float64",
         "type": "float"
        },
        {
         "name": "min_temp",
         "rawType": "float64",
         "type": "float"
        },
        {
         "name": "max_temp",
         "rawType": "float64",
         "type": "float"
        },
        {
         "name": "weekend",
         "rawType": "bool",
         "type": "boolean"
        }
       ],
       "ref": "321fc3fd-f7f8-4c52-a838-24133f30c4bf",
       "rows": [
        [
         "0",
         "2010-07-30T00:00:00Z",
         "6897",
         "2010",
         "Fri",
         "Jul",
         "30",
         "6.0",
         "65.0",
         "10147.0",
         "157.0",
         "22.0",
         null,
         "31.0",
         "17.7",
         "12.3",
         "25.1",
         "False"
        ],
        [
         "1",
         "2010-07-31T00:00:00Z",
         "5564",
         "2010",
         "Sat",
         "Jul",
         "30",
         "5.0",
         "70.0",
         "10116.0",
         "184.0",
         "0.0",
         null,
         "47.0",
         "21.1",
         "17.0",
         "23.9",
         "True"
        ],
        [
         "2",
         "2010-08-01T00:00:00Z",
         "4303",
         "2010",
         "Sun",
         "Aug",
         "30",
         "7.0",
         "63.0",
         "10132.0",
         "89.0",
         "0.0",
         null,
         "3.0",
         "19.3",
         "14.6",
         "23.4",
         "True"
        ],
        [
         "3",
         "2010-08-02T00:00:00Z",
         "6642",
         "2010",
         "Mon",
         "Aug",
         "31",
         "7.0",
         "59.0",
         "10168.0",
         "134.0",
         "0.0",
         null,
         "20.0",
         "19.5",
         "15.6",
         "23.6",
         "False"
        ],
        [
         "4",
         "2010-08-03T00:00:00Z",
         "7966",
         "2010",
         "Tue",
         "Aug",
         "31",
         "5.0",
         "66.0",
         "10157.0",
         "169.0",
         "0.0",
         null,
         "39.0",
         "17.9",
         "12.1",
         "20.1",
         "False"
        ]
       ],
       "shape": {
        "columns": 17,
        "rows": 5
       }
      },
      "text/html": [
       "<div>\n",
       "<style scoped>\n",
       "    .dataframe tbody tr th:only-of-type {\n",
       "        vertical-align: middle;\n",
       "    }\n",
       "\n",
       "    .dataframe tbody tr th {\n",
       "        vertical-align: top;\n",
       "    }\n",
       "\n",
       "    .dataframe thead th {\n",
       "        text-align: right;\n",
       "    }\n",
       "</style>\n",
       "<table border=\"1\" class=\"dataframe\">\n",
       "  <thead>\n",
       "    <tr style=\"text-align: right;\">\n",
       "      <th></th>\n",
       "      <th>date</th>\n",
       "      <th>bikes_hired</th>\n",
       "      <th>year</th>\n",
       "      <th>wday</th>\n",
       "      <th>month</th>\n",
       "      <th>week</th>\n",
       "      <th>cloud_cover</th>\n",
       "      <th>humidity</th>\n",
       "      <th>pressure</th>\n",
       "      <th>radiation</th>\n",
       "      <th>precipitation</th>\n",
       "      <th>snow_depth</th>\n",
       "      <th>sunshine</th>\n",
       "      <th>mean_temp</th>\n",
       "      <th>min_temp</th>\n",
       "      <th>max_temp</th>\n",
       "      <th>weekend</th>\n",
       "    </tr>\n",
       "  </thead>\n",
       "  <tbody>\n",
       "    <tr>\n",
       "      <th>0</th>\n",
       "      <td>2010-07-30T00:00:00Z</td>\n",
       "      <td>6897</td>\n",
       "      <td>2010</td>\n",
       "      <td>Fri</td>\n",
       "      <td>Jul</td>\n",
       "      <td>30</td>\n",
       "      <td>6.0</td>\n",
       "      <td>65.0</td>\n",
       "      <td>10147.0</td>\n",
       "      <td>157.0</td>\n",
       "      <td>22.0</td>\n",
       "      <td>NaN</td>\n",
       "      <td>31.0</td>\n",
       "      <td>17.7</td>\n",
       "      <td>12.3</td>\n",
       "      <td>25.1</td>\n",
       "      <td>False</td>\n",
       "    </tr>\n",
       "    <tr>\n",
       "      <th>1</th>\n",
       "      <td>2010-07-31T00:00:00Z</td>\n",
       "      <td>5564</td>\n",
       "      <td>2010</td>\n",
       "      <td>Sat</td>\n",
       "      <td>Jul</td>\n",
       "      <td>30</td>\n",
       "      <td>5.0</td>\n",
       "      <td>70.0</td>\n",
       "      <td>10116.0</td>\n",
       "      <td>184.0</td>\n",
       "      <td>0.0</td>\n",
       "      <td>NaN</td>\n",
       "      <td>47.0</td>\n",
       "      <td>21.1</td>\n",
       "      <td>17.0</td>\n",
       "      <td>23.9</td>\n",
       "      <td>True</td>\n",
       "    </tr>\n",
       "    <tr>\n",
       "      <th>2</th>\n",
       "      <td>2010-08-01T00:00:00Z</td>\n",
       "      <td>4303</td>\n",
       "      <td>2010</td>\n",
       "      <td>Sun</td>\n",
       "      <td>Aug</td>\n",
       "      <td>30</td>\n",
       "      <td>7.0</td>\n",
       "      <td>63.0</td>\n",
       "      <td>10132.0</td>\n",
       "      <td>89.0</td>\n",
       "      <td>0.0</td>\n",
       "      <td>NaN</td>\n",
       "      <td>3.0</td>\n",
       "      <td>19.3</td>\n",
       "      <td>14.6</td>\n",
       "      <td>23.4</td>\n",
       "      <td>True</td>\n",
       "    </tr>\n",
       "    <tr>\n",
       "      <th>3</th>\n",
       "      <td>2010-08-02T00:00:00Z</td>\n",
       "      <td>6642</td>\n",
       "      <td>2010</td>\n",
       "      <td>Mon</td>\n",
       "      <td>Aug</td>\n",
       "      <td>31</td>\n",
       "      <td>7.0</td>\n",
       "      <td>59.0</td>\n",
       "      <td>10168.0</td>\n",
       "      <td>134.0</td>\n",
       "      <td>0.0</td>\n",
       "      <td>NaN</td>\n",
       "      <td>20.0</td>\n",
       "      <td>19.5</td>\n",
       "      <td>15.6</td>\n",
       "      <td>23.6</td>\n",
       "      <td>False</td>\n",
       "    </tr>\n",
       "    <tr>\n",
       "      <th>4</th>\n",
       "      <td>2010-08-03T00:00:00Z</td>\n",
       "      <td>7966</td>\n",
       "      <td>2010</td>\n",
       "      <td>Tue</td>\n",
       "      <td>Aug</td>\n",
       "      <td>31</td>\n",
       "      <td>5.0</td>\n",
       "      <td>66.0</td>\n",
       "      <td>10157.0</td>\n",
       "      <td>169.0</td>\n",
       "      <td>0.0</td>\n",
       "      <td>NaN</td>\n",
       "      <td>39.0</td>\n",
       "      <td>17.9</td>\n",
       "      <td>12.1</td>\n",
       "      <td>20.1</td>\n",
       "      <td>False</td>\n",
       "    </tr>\n",
       "  </tbody>\n",
       "</table>\n",
       "</div>"
      ],
      "text/plain": [
       "                   date  bikes_hired  year wday month  week  cloud_cover  \\\n",
       "0  2010-07-30T00:00:00Z         6897  2010  Fri   Jul    30          6.0   \n",
       "1  2010-07-31T00:00:00Z         5564  2010  Sat   Jul    30          5.0   \n",
       "2  2010-08-01T00:00:00Z         4303  2010  Sun   Aug    30          7.0   \n",
       "3  2010-08-02T00:00:00Z         6642  2010  Mon   Aug    31          7.0   \n",
       "4  2010-08-03T00:00:00Z         7966  2010  Tue   Aug    31          5.0   \n",
       "\n",
       "   humidity  pressure  radiation  precipitation  snow_depth  sunshine  \\\n",
       "0      65.0   10147.0      157.0           22.0         NaN      31.0   \n",
       "1      70.0   10116.0      184.0            0.0         NaN      47.0   \n",
       "2      63.0   10132.0       89.0            0.0         NaN       3.0   \n",
       "3      59.0   10168.0      134.0            0.0         NaN      20.0   \n",
       "4      66.0   10157.0      169.0            0.0         NaN      39.0   \n",
       "\n",
       "   mean_temp  min_temp  max_temp  weekend  \n",
       "0       17.7      12.3      25.1    False  \n",
       "1       21.1      17.0      23.9     True  \n",
       "2       19.3      14.6      23.4     True  \n",
       "3       19.5      15.6      23.6    False  \n",
       "4       17.9      12.1      20.1    False  "
      ]
     },
     "execution_count": 1,
     "metadata": {},
     "output_type": "execute_result"
    }
   ],
   "source": [
    "## Import libraries and data\n",
    "import pandas as pd\n",
    "import numpy as np\n",
    "import matplotlib.pyplot as plt\n",
    "import seaborn as sns\n",
    "import statsmodels.formula.api as smf\n",
    "\n",
    "df = pd.read_csv(\"../Data/london_bikes.csv\") \n",
    "df.head()"
   ]
  },
  {
   "cell_type": "markdown",
   "id": "e8eebb78",
   "metadata": {},
   "source": [
    "**1. Data Cleaning**\n",
    "\n",
    "Check for missing values across columns. How would you handle them?\n",
    "\n",
    "Inspect the date column and ensure it is correctly formatted as datetime. Extract useful features (year, month, day, day of week, season).\n",
    "\n",
    "Convert categorical variables (e.g., season, weather) to appropriate categories in Python.\n",
    "\n",
    "Ensure numeric columns (e.g., bikes rented, temperature) are in the right format."
   ]
  },
  {
   "cell_type": "code",
   "execution_count": null,
   "id": "2d309da5",
   "metadata": {},
   "outputs": [],
   "source": [
    "## Your code goes here\n"
   ]
  },
  {
   "cell_type": "markdown",
   "id": "44a915a8",
   "metadata": {},
   "source": [
    "**2. Exploratory Data Analysis (EDA)**\n",
    "\n",
    "Plot the distribution of bikes rented.\n",
    "\n",
    "Explore how rentals vary by season and month.\n",
    "\n",
    "Investigate the relationship between temperature and bikes rented.\n",
    "\n",
    "**Deliverables:**\n",
    "\n",
    "At least 3 clear visualisations with captions.\n",
    "\n",
    "A short written interpretation of key patterns (seasonality, weather effects, etc.).\n",
    "\n"
   ]
  },
  {
   "cell_type": "code",
   "execution_count": null,
   "id": "5aacf6e9",
   "metadata": {},
   "outputs": [],
   "source": [
    "## Your code goes here"
   ]
  },
  {
   "cell_type": "markdown",
   "id": "8367a791",
   "metadata": {},
   "source": [
    "**3. Construct 95% confidence intervals for the mean number of bikes rented per season.**\n",
    "\n",
    "Repeat the calculation per month.\n",
    "\n",
    "Interpret the result:\n",
    "\n",
    "What range of values do you expect the true mean to lie in?\n",
    "\n",
    "Which seasons/months have higher or lower average demand?\n",
    "\n",
    "Are there overlaps in the intervals, and what does that mean?\n",
    "\n",
    "**Deliverables:**\n",
    "\n",
    "A table or plot showing the mean and confidence intervals.\n",
    "\n",
    "A short interpretation."
   ]
  },
  {
   "cell_type": "code",
   "execution_count": null,
   "id": "732fdf58",
   "metadata": {},
   "outputs": [],
   "source": [
    "## Your code goes here"
   ]
  },
  {
   "cell_type": "markdown",
   "id": "022fa6bf",
   "metadata": {},
   "source": [
    "**Regression Analysis**\n",
    "\n",
    "What variables influence the number of bikes rented (y) and how? Build a regression model that best explains the variability in bikes rented.\n",
    "\n",
    "**Interpret:**\n",
    "\n",
    "Which predictors are significant?\n",
    "\n",
    "What do the coefficients mean (in practical terms)?\n",
    "\n",
    "How much of the variation in bike rentals is explained (R²)?\n",
    "\n",
    "**Deliverables:**\n",
    "\n",
    "Regression output table.\n",
    "\n",
    "A short discussion of which factors matter most for predicting bike rentals."
   ]
  },
  {
   "cell_type": "code",
   "execution_count": null,
   "id": "fba598cb",
   "metadata": {},
   "outputs": [],
   "source": [
    "### Your code goes here"
   ]
  },
  {
   "cell_type": "markdown",
   "id": "225d1c3b",
   "metadata": {},
   "source": [
    "## Deliverables\n",
    "A knitted HTML, one person per group to submit"
   ]
  },
  {
   "cell_type": "markdown",
   "id": "5a4efb13",
   "metadata": {},
   "source": []
  }
 ],
 "metadata": {
  "kernelspec": {
   "display_name": "Python 3",
   "language": "python",
   "name": "python3"
  },
  "language_info": {
   "codemirror_mode": {
    "name": "ipython",
    "version": 3
   },
   "file_extension": ".py",
   "mimetype": "text/x-python",
   "name": "python",
   "nbconvert_exporter": "python",
   "pygments_lexer": "ipython3",
   "version": "3.12.1"
  }
 },
 "nbformat": 4,
 "nbformat_minor": 5
}
